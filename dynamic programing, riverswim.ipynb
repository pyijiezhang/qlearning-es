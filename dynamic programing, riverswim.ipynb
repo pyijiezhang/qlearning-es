{
 "cells": [
  {
   "cell_type": "code",
   "execution_count": 1,
   "id": "b88e6cba",
   "metadata": {},
   "outputs": [],
   "source": [
    "import numpy as np\n",
    "from tqdm import tqdm as _tqdm\n",
    "\n",
    "\n",
    "def tqdm(*args, **kwargs):\n",
    "    # Safety, do not overflow buffer\n",
    "    return _tqdm(*args, **kwargs, mininterval=1)"
   ]
  },
  {
   "cell_type": "code",
   "execution_count": 2,
   "id": "2a194961",
   "metadata": {},
   "outputs": [],
   "source": [
    "from riverswim import RiverswimEnv\n",
    "env = RiverswimEnv()\n",
    "# Lets see what this is\n",
    "# ?env"
   ]
  },
  {
   "cell_type": "code",
   "execution_count": 3,
   "id": "0b2eb4f9",
   "metadata": {},
   "outputs": [
    {
     "data": {
      "text/plain": [
       "{0: {0: [(1.0, 0, 0.05, 0)], 1: [(0.6, 0, 0, 0), (0.4, 1, 0, 0)]},\n",
       " 1: {0: [(1.0, 0, 0, 0)],\n",
       "  1: [(0.05, 0, 0, 0), (0.55, 1, 0, 0), (0.4, 2, 0, 0)]},\n",
       " 2: {0: [(1.0, 1, 0, 0)],\n",
       "  1: [(0.05, 1, 0, 0), (0.55, 2, 0, 0), (0.4, 3, 0, 0)]},\n",
       " 3: {0: [(1.0, 2, 0, 0)],\n",
       "  1: [(0.05, 2, 0, 0), (0.55, 3, 0, 0), (0.4, 4, 0, 0)]},\n",
       " 4: {0: [(1.0, 3, 0, 0)],\n",
       "  1: [(0.05, 3, 0, 0), (0.55, 4, 0, 0), (0.4, 5, 0, 0)]},\n",
       " 5: {0: [(1.0, 4, 0, 0)], 1: [(0.6, 5, 1, 0), (0.4, 4, 1, 0)]}}"
      ]
     },
     "execution_count": 3,
     "metadata": {},
     "output_type": "execute_result"
    }
   ],
   "source": [
    "# Take a moment to figure out what P represents.\n",
    "# Note that this is a deterministic environment.\n",
    "# What would a stochastic environment look like?\n",
    "env.P"
   ]
  },
  {
   "cell_type": "markdown",
   "id": "a968156f",
   "metadata": {},
   "source": [
    "# policy iteration"
   ]
  },
  {
   "cell_type": "code",
   "execution_count": 4,
   "id": "f8a2a586",
   "metadata": {},
   "outputs": [],
   "source": [
    "from dp import policy_iteration, value_iteration"
   ]
  },
  {
   "cell_type": "code",
   "execution_count": 5,
   "id": "09aacf54",
   "metadata": {},
   "outputs": [
    {
     "name": "stdout",
     "output_type": "stream",
     "text": [
      "Policy Probability Distribution:\n",
      "[[0. 1.]\n",
      " [0. 1.]\n",
      " [0. 1.]\n",
      " [0. 1.]\n",
      " [0. 1.]\n",
      " [0. 1.]]\n",
      "\n",
      "Value Function:\n",
      "[0.54929387 0.79380008 1.17642425 1.74494816 2.58737575 3.83556129]\n",
      "\n"
     ]
    }
   ],
   "source": [
    "# Let's see what it does\n",
    "policy, v = policy_iteration(env)\n",
    "print(\"Policy Probability Distribution:\")\n",
    "print(policy)\n",
    "print(\"\")\n",
    "\n",
    "print(\"Value Function:\")\n",
    "print(v)\n",
    "print(\"\")"
   ]
  },
  {
   "cell_type": "markdown",
   "id": "42d781c3",
   "metadata": {},
   "source": [
    "# value iteration"
   ]
  },
  {
   "cell_type": "code",
   "execution_count": 6,
   "id": "1d482229",
   "metadata": {},
   "outputs": [
    {
     "name": "stdout",
     "output_type": "stream",
     "text": [
      "Policy Probability Distribution:\n",
      "[[0. 1.]\n",
      " [0. 1.]\n",
      " [0. 1.]\n",
      " [0. 1.]\n",
      " [0. 1.]\n",
      " [0. 1.]]\n",
      "\n",
      "Value Function:\n",
      "[0.54932344 0.7938261  1.17644767 1.74496939 2.58739504 3.83557883]\n",
      "\n"
     ]
    }
   ],
   "source": [
    "# Oh let's test again\n",
    "# Let's see what it does\n",
    "policy, v = value_iteration(env)\n",
    "print(\"Policy Probability Distribution:\")\n",
    "print(policy)\n",
    "print(\"\")\n",
    "\n",
    "print(\"Value Function:\")\n",
    "print(v)\n",
    "print(\"\")"
   ]
  }
 ],
 "metadata": {
  "kernelspec": {
   "display_name": "Python 3 (ipykernel)",
   "language": "python",
   "name": "python3"
  },
  "language_info": {
   "codemirror_mode": {
    "name": "ipython",
    "version": 3
   },
   "file_extension": ".py",
   "mimetype": "text/x-python",
   "name": "python",
   "nbconvert_exporter": "python",
   "pygments_lexer": "ipython3",
   "version": "3.8.2"
  },
  "toc": {
   "base_numbering": 1,
   "nav_menu": {},
   "number_sections": true,
   "sideBar": true,
   "skip_h1_title": false,
   "title_cell": "Table of Contents",
   "title_sidebar": "Contents",
   "toc_cell": false,
   "toc_position": {},
   "toc_section_display": true,
   "toc_window_display": true
  },
  "varInspector": {
   "cols": {
    "lenName": 16,
    "lenType": 16,
    "lenVar": 40
   },
   "kernels_config": {
    "python": {
     "delete_cmd_postfix": "",
     "delete_cmd_prefix": "del ",
     "library": "var_list.py",
     "varRefreshCmd": "print(var_dic_list())"
    },
    "r": {
     "delete_cmd_postfix": ") ",
     "delete_cmd_prefix": "rm(",
     "library": "var_list.r",
     "varRefreshCmd": "cat(var_dic_list()) "
    }
   },
   "types_to_exclude": [
    "module",
    "function",
    "builtin_function_or_method",
    "instance",
    "_Feature"
   ],
   "window_display": false
  }
 },
 "nbformat": 4,
 "nbformat_minor": 5
}
